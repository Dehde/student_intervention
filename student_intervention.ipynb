{
 "cells": [
  {
   "cell_type": "markdown",
   "metadata": {},
   "source": [
    "# Machine Learning Engineer Nanodegree\n",
    "## Supervised Learning\n",
    "## Project: Building a Student Intervention System"
   ]
  },
  {
   "cell_type": "markdown",
   "metadata": {},
   "source": [
    "Welcome to the second project of the Machine Learning Engineer Nanodegree! In this notebook, some template code has already been provided for you, and it will be your job to implement the additional functionality necessary to successfully complete this project. Sections that begin with **'Implementation'** in the header indicate that the following block of code will require additional functionality which you must provide. Instructions will be provided for each section and the specifics of the implementation are marked in the code block with a `'TODO'` statement. Please be sure to read the instructions carefully!\n",
    "\n",
    "In addition to implementing code, there will be questions that you must answer which relate to the project and your implementation. Each section where you will answer a question is preceded by a **'Question X'** header. Carefully read each question and provide thorough answers in the following text boxes that begin with **'Answer:'**. Your project submission will be evaluated based on your answers to each of the questions and the implementation you provide.  \n",
    "\n",
    ">**Note:** Code and Markdown cells can be executed using the **Shift + Enter** keyboard shortcut. In addition, Markdown cells can be edited by typically double-clicking the cell to enter edit mode."
   ]
  },
  {
   "cell_type": "markdown",
   "metadata": {},
   "source": [
    "### Question 1 - Classification vs. Regression\n",
    "*Your goal for this project is to identify students who might need early intervention before they fail to graduate. Which type of supervised learning problem is this, classification or regression? Why?*"
   ]
  },
  {
   "cell_type": "markdown",
   "metadata": {},
   "source": [
    "**Answer: **\n",
    "I believe that this problem calls for a classification. Since we are interested in whether or whether not the students pass their exam, we are trying to find a yes/no answer. We want to be able to identify students that will likely not pass as early as possible, so that we can do something about that and turn it into a yes.\n",
    "\n",
    "On the other hand, it would also be very interesting to generate probabilities for the students to pass their final exam and then say starting at a certain treshhold people will get help. The thing is, even in this case we need a treshhold, as our primary goal is to answer the question: \"Does this kid need help? which ultimately is a yes/no question. Therefore, classification seems to be more suitable.\n",
    "\n",
    "Also, a problem with generating the probabilities is that we do not get this label for a student. We would have to generate this ourselves. Which would not be exactly supervised learning.\n",
    "\n",
    "Conclusion: Classification it is."
   ]
  },
  {
   "cell_type": "markdown",
   "metadata": {},
   "source": [
    "## Exploring the Data\n",
    "Run the code cell below to load necessary Python libraries and load the student data. Note that the last column from this dataset, `'passed'`, will be our target label (whether the student graduated or didn't graduate). All other columns are features about each student."
   ]
  },
  {
   "cell_type": "code",
   "execution_count": 1,
   "metadata": {
    "collapsed": false
   },
   "outputs": [
    {
     "name": "stdout",
     "output_type": "stream",
     "text": [
      "Student data read successfully!\n"
     ]
    }
   ],
   "source": [
    "# Import libraries\n",
    "import numpy as np\n",
    "import pandas as pd\n",
    "from time import time\n",
    "from sklearn.metrics import f1_score\n",
    "\n",
    "# Read student data\n",
    "student_data = pd.read_csv(\"student-data.csv\")\n",
    "print \"Student data read successfully!\""
   ]
  },
  {
   "cell_type": "markdown",
   "metadata": {},
   "source": [
    "### Implementation: Data Exploration\n",
    "Let's begin by investigating the dataset to determine how many students we have information on, and learn about the graduation rate among these students. In the code cell below, you will need to compute the following:\n",
    "- The total number of students, `n_students`.\n",
    "- The total number of features for each student, `n_features`.\n",
    "- The number of those students who passed, `n_passed`.\n",
    "- The number of those students who failed, `n_failed`.\n",
    "- The graduation rate of the class, `grad_rate`, in percent (%).\n"
   ]
  },
  {
   "cell_type": "code",
   "execution_count": 2,
   "metadata": {
    "collapsed": false
   },
   "outputs": [
    {
     "name": "stdout",
     "output_type": "stream",
     "text": [
      "Total number of students: 395\n",
      "Number of features: 30\n",
      "Number of students who passed: 265\n",
      "Number of students who failed: 130\n",
      "Graduation rate of the class: 67.09%\n"
     ]
    }
   ],
   "source": [
    "# TODO: Calculate number of students\n",
    "n_students = student_data.shape[0]\n",
    "\n",
    "# TODO: Calculate number of features\n",
    "n_features = len(student_data.columns[:-1])\n",
    "\n",
    "# TODO: Calculate passing students\n",
    "students_that_passed_data = student_data.loc[student_data['passed'] == 'yes']\n",
    "n_passed = students_that_passed_data.shape[0]\n",
    "\n",
    "# TODO: Calculate failing students\n",
    "n_failed = n_students - n_passed\n",
    "\n",
    "# TODO: Calculate graduation rate\n",
    "grad_rate = float(n_passed)/float(n_students)\n",
    "\n",
    "# Print the results\n",
    "print \"Total number of students: {}\".format(n_students)\n",
    "print \"Number of features: {}\".format(n_features)\n",
    "print \"Number of students who passed: {}\".format(n_passed)\n",
    "print \"Number of students who failed: {}\".format(n_failed)\n",
    "#graduation rate in percent\n",
    "print \"Graduation rate of the class: {:.2f}%\".format(grad_rate*100)"
   ]
  },
  {
   "cell_type": "markdown",
   "metadata": {},
   "source": [
    "## Preparing the Data\n",
    "In this section, we will prepare the data for modeling, training and testing.\n",
    "\n",
    "### Identify feature and target columns\n",
    "It is often the case that the data you obtain contains non-numeric features. This can be a problem, as most machine learning algorithms expect numeric data to perform computations with.\n",
    "\n",
    "Run the code cell below to separate the student data into feature and target columns to see if any features are non-numeric."
   ]
  },
  {
   "cell_type": "code",
   "execution_count": 3,
   "metadata": {
    "collapsed": false
   },
   "outputs": [
    {
     "name": "stdout",
     "output_type": "stream",
     "text": [
      "Feature columns:\n",
      "['school', 'sex', 'age', 'address', 'famsize', 'Pstatus', 'Medu', 'Fedu', 'Mjob', 'Fjob', 'reason', 'guardian', 'traveltime', 'studytime', 'failures', 'schoolsup', 'famsup', 'paid', 'activities', 'nursery', 'higher', 'internet', 'romantic', 'famrel', 'freetime', 'goout', 'Dalc', 'Walc', 'health', 'absences']\n",
      "\n",
      "Target column: passed\n",
      "\n",
      "Feature values:\n",
      "  school sex  age address famsize Pstatus  Medu  Fedu     Mjob      Fjob  \\\n",
      "0     GP   F   18       U     GT3       A     4     4  at_home   teacher   \n",
      "1     GP   F   17       U     GT3       T     1     1  at_home     other   \n",
      "2     GP   F   15       U     LE3       T     1     1  at_home     other   \n",
      "3     GP   F   15       U     GT3       T     4     2   health  services   \n",
      "4     GP   F   16       U     GT3       T     3     3    other     other   \n",
      "\n",
      "    ...    higher internet  romantic  famrel  freetime goout Dalc Walc health  \\\n",
      "0   ...       yes       no        no       4         3     4    1    1      3   \n",
      "1   ...       yes      yes        no       5         3     3    1    1      3   \n",
      "2   ...       yes      yes        no       4         3     2    2    3      3   \n",
      "3   ...       yes      yes       yes       3         2     2    1    1      5   \n",
      "4   ...       yes       no        no       4         3     2    1    2      5   \n",
      "\n",
      "  absences  \n",
      "0        6  \n",
      "1        4  \n",
      "2       10  \n",
      "3        2  \n",
      "4        4  \n",
      "\n",
      "[5 rows x 30 columns]\n",
      "0       no\n",
      "1       no\n",
      "2      yes\n",
      "3      yes\n",
      "4      yes\n",
      "5      yes\n",
      "6      yes\n",
      "7       no\n",
      "8      yes\n",
      "9      yes\n",
      "10      no\n",
      "11     yes\n",
      "12     yes\n",
      "13     yes\n",
      "14     yes\n",
      "15     yes\n",
      "16     yes\n",
      "17     yes\n",
      "18      no\n",
      "19     yes\n",
      "20     yes\n",
      "21     yes\n",
      "22     yes\n",
      "23     yes\n",
      "24      no\n",
      "25      no\n",
      "26     yes\n",
      "27     yes\n",
      "28     yes\n",
      "29     yes\n",
      "      ... \n",
      "365    yes\n",
      "366    yes\n",
      "367     no\n",
      "368    yes\n",
      "369    yes\n",
      "370     no\n",
      "371    yes\n",
      "372    yes\n",
      "373     no\n",
      "374    yes\n",
      "375    yes\n",
      "376    yes\n",
      "377    yes\n",
      "378    yes\n",
      "379    yes\n",
      "380    yes\n",
      "381     no\n",
      "382    yes\n",
      "383     no\n",
      "384     no\n",
      "385    yes\n",
      "386     no\n",
      "387     no\n",
      "388     no\n",
      "389     no\n",
      "390     no\n",
      "391    yes\n",
      "392     no\n",
      "393    yes\n",
      "394     no\n",
      "Name: passed, dtype: object\n"
     ]
    }
   ],
   "source": [
    "# Extract feature columns\n",
    "feature_cols = list(student_data.columns[:-1])\n",
    "\n",
    "# Extract target column 'passed'\n",
    "target_col = student_data.columns[-1] \n",
    "\n",
    "# Show the list of columns\n",
    "print \"Feature columns:\\n{}\".format(feature_cols)\n",
    "print \"\\nTarget column: {}\".format(target_col)\n",
    "\n",
    "# Separate the data into feature data and target data (X_all and y_all, respectively)\n",
    "X_all = student_data[feature_cols]\n",
    "y_all = student_data[target_col]\n",
    "\n",
    "# Show the feature information by printing the first five rows\n",
    "print \"\\nFeature values:\"\n",
    "print X_all.head()\n",
    "print y_all"
   ]
  },
  {
   "cell_type": "markdown",
   "metadata": {},
   "source": [
    "### Preprocess Feature Columns\n",
    "\n",
    "As you can see, there are several non-numeric columns that need to be converted! Many of them are simply `yes`/`no`, e.g. `internet`. These can be reasonably converted into `1`/`0` (binary) values.\n",
    "\n",
    "Other columns, like `Mjob` and `Fjob`, have more than two values, and are known as _categorical variables_. The recommended way to handle such a column is to create as many columns as possible values (e.g. `Fjob_teacher`, `Fjob_other`, `Fjob_services`, etc.), and assign a `1` to one of them and `0` to all others.\n",
    "\n",
    "These generated columns are sometimes called _dummy variables_, and we will use the [`pandas.get_dummies()`](http://pandas.pydata.org/pandas-docs/stable/generated/pandas.get_dummies.html?highlight=get_dummies#pandas.get_dummies) function to perform this transformation. Run the code cell below to perform the preprocessing routine discussed in this section."
   ]
  },
  {
   "cell_type": "code",
   "execution_count": 4,
   "metadata": {
    "collapsed": false
   },
   "outputs": [
    {
     "name": "stdout",
     "output_type": "stream",
     "text": [
      "Processed feature columns (48 total features):\n",
      "['school_GP', 'school_MS', 'sex_F', 'sex_M', 'age', 'address_R', 'address_U', 'famsize_GT3', 'famsize_LE3', 'Pstatus_A', 'Pstatus_T', 'Medu', 'Fedu', 'Mjob_at_home', 'Mjob_health', 'Mjob_other', 'Mjob_services', 'Mjob_teacher', 'Fjob_at_home', 'Fjob_health', 'Fjob_other', 'Fjob_services', 'Fjob_teacher', 'reason_course', 'reason_home', 'reason_other', 'reason_reputation', 'guardian_father', 'guardian_mother', 'guardian_other', 'traveltime', 'studytime', 'failures', 'schoolsup', 'famsup', 'paid', 'activities', 'nursery', 'higher', 'internet', 'romantic', 'famrel', 'freetime', 'goout', 'Dalc', 'Walc', 'health', 'absences']\n"
     ]
    }
   ],
   "source": [
    "def preprocess_features(X):\n",
    "    ''' Preprocesses the student data and converts non-numeric binary variables into\n",
    "        binary (0/1) variables. Converts categorical variables into dummy variables. '''\n",
    "    \n",
    "    # Initialize new output DataFrame\n",
    "    output = pd.DataFrame(index = X.index)\n",
    "\n",
    "    # Investigate each feature column for the data\n",
    "    for col, col_data in X.iteritems():\n",
    "        \n",
    "        # If data type is non-numeric, replace all yes/no values with 1/0\n",
    "        if col_data.dtype == object:\n",
    "            col_data = col_data.replace(['yes', 'no'], [1, 0])\n",
    "\n",
    "        # If data type is categorical, convert to dummy variables\n",
    "        if col_data.dtype == object:\n",
    "            # Example: 'school' => 'school_GP' and 'school_MS'\n",
    "            col_data = pd.get_dummies(col_data, prefix = col)  \n",
    "        \n",
    "        # Collect the revised columns\n",
    "        output = output.join(col_data)\n",
    "    \n",
    "    return output\n",
    "\n",
    "X_all = preprocess_features(X_all)\n",
    "print \"Processed feature columns ({} total features):\\n{}\".format(len(X_all.columns), list(X_all.columns))"
   ]
  },
  {
   "cell_type": "markdown",
   "metadata": {},
   "source": [
    "### Implementation: Training and Testing Data Split\n",
    "So far, we have converted all _categorical_ features into numeric values. For the next step, we split the data (both features and corresponding labels) into training and test sets. In the following code cell below, you will need to implement the following:\n",
    "- Randomly shuffle and split the data (`X_all`, `y_all`) into training and testing subsets.\n",
    "  - Use 300 training points (approximately 75%) and 95 testing points (approximately 25%).\n",
    "  - Set a `random_state` for the function(s) you use, if provided.\n",
    "  - Store the results in `X_train`, `X_test`, `y_train`, and `y_test`."
   ]
  },
  {
   "cell_type": "code",
   "execution_count": 7,
   "metadata": {
    "collapsed": false
   },
   "outputs": [
    {
     "name": "stdout",
     "output_type": "stream",
     "text": [
      "2.0303030303 2.06451612903\n",
      "Training set has 300 samples.\n",
      "Testing set has 95 samples.\n"
     ]
    }
   ],
   "source": [
    "# TODO: Import any additional functionality you may need here\n",
    "from sklearn.cross_validation import train_test_split\n",
    "\n",
    "# TODO: Set the number of training points\n",
    "num_train = 300\n",
    "# Set the number of testing points\n",
    "num_test = X_all.shape[0] - num_train\n",
    "\n",
    "\n",
    "# TODO: Shuffle and split the dataset into the number of training and testing points above\n",
    "X_train, X_test, y_train, y_test = train_test_split(X_all, y_all, test_size=num_test,\n",
    "                                                    stratify=y_all, random_state=42)\n",
    "\n",
    "#Making sure both test and training have a similar yes/no ratio, therefore using stratify\n",
    "y1, n1 = y_train.value_counts().values\n",
    "y2, n2 = y_test.value_counts().values\n",
    "print float(y1)/n1, float(y2)/n2\n",
    "\n",
    "# Show the results of the split\n",
    "print \"Training set has {} samples.\".format(X_train.shape[0])\n",
    "print \"Testing set has {} samples.\".format(X_test.shape[0])"
   ]
  },
  {
   "cell_type": "markdown",
   "metadata": {},
   "source": [
    "## Training and Evaluating Models\n",
    "In this section, you will choose 3 supervised learning models that are appropriate for this problem and available in `scikit-learn`. You will first discuss the reasoning behind choosing these three models by considering what you know about the data and each model's strengths and weaknesses. You will then fit the model to varying sizes of training data (100 data points, 200 data points, and 300 data points) and measure the F<sub>1</sub> score. You will need to produce three tables (one for each model) that shows the training set size, training time, prediction time, F<sub>1</sub> score on the training set, and F<sub>1</sub> score on the testing set.\n",
    "\n",
    "**The following supervised learning models are currently available in** [`scikit-learn`](http://scikit-learn.org/stable/supervised_learning.html) **that you may choose from:**\n",
    "- Gaussian Naive Bayes (GaussianNB)\n",
    "- Decision Trees\n",
    "- Ensemble Methods (Bagging, AdaBoost, Random Forest, Gradient Boosting)\n",
    "- K-Nearest Neighbors (KNeighbors)\n",
    "- Stochastic Gradient Descent (SGDC)\n",
    "- Support Vector Machines (SVM)\n",
    "- Logistic Regression"
   ]
  },
  {
   "cell_type": "markdown",
   "metadata": {},
   "source": [
    "### Question 2 - Model Application\n",
    "*List three supervised learning models that are appropriate for this problem. For each model chosen*\n",
    "- Describe one real-world application in industry where the model can be applied. *(You may need to do a small bit of research for this — give references!)* \n",
    "- What are the strengths of the model; when does it perform well? \n",
    "- What are the weaknesses of the model; when does it perform poorly?\n",
    "- What makes this model a good candidate for the problem, given what you know about the data?"
   ]
  },
  {
   "cell_type": "markdown",
   "metadata": {},
   "source": [
    "**NOTES for me**\n",
    "+Ensemble methods: In the case of Adaboost: agnostic to learner, therefore the underlying model is not important. Strongest out of the box algorithm. Less prone to overfitting than most algorithms, which is probably very useful on this small dataset.\n",
    "+Bayesian learning: maybe prior is useful for determining result? +noise robustness +need only small datasets\n",
    "+SVM : not very noise robust. But good for small datasets. Work also for non-linearly separable problems. Which kernel to use?\n",
    "-Logistic Regression: Linear model used to fit data, using a log loss to determine the error and to optimize. Is the linear model enough? Uses Maximum likelihood rather than ordinary least squares and therefore needs lots of data. This is not given here https://onlinecourses.science.psu.edu/stat504/node/164\n",
    "-Decision trees: very prone to overfitting, perhaps not suitable due to small dataset. Maybe instead a random forest in the ensemble methods?\n",
    "-SGD: according to sklearn convergence is only certain starting at 10^6 data items, therefore much higher than the data set supplied here\n",
    "-kNN: probably not suitable, since the distance between things is really not clear when dealing with categorical values. A distance would have to be defined. KNN can be severly degraded by the presence of irrelevant features, or if the feature scales are not consistent with their importance. KNN normally needs a feature extraction if the number of dimensions exceeds 10. Here we have 30 dimensions and do not know which dimensions will be more important than others\n",
    "\n",
    "\n",
    "\n",
    "\n",
    "**Answer for corrector: **\n",
    "\n",
    "The three algorithms I choose are: Ensemble methods, Bayesian Learning and SVM\n",
    "\n",
    "**The four questions for Bayesian Learning:**\n",
    "-One popular application for bayesian learning is the classification which author wrote a text, which was famously used to reveal that J.K. Rowling published work under a pseudonym. (This appeared in the Machine Learning course of Udacity, sorry I do not know anymore which video it is from. The pseudonym was Robert Galbraith. http://robert-galbraith.com/about/)\n",
    "\n",
    "-Strengths of the model are noise robustness and no need of much data, which both seem to come hand in hand as a consequence of the fact that naive bayes tends to oversimplify.\n",
    "-Oversimplification is a problem, as naive bayes tends not to find complex patterns. Furthermore, the model performs poorly when the assumed conditional independence is not well met in the data, or does not cancel itself, as proposed here: http://www.cs.unb.ca/~hzhang/publications/FLAIRS04ZhangH.pdf)\n",
    "\n",
    "-We have rather few data, with only 300 train data points, while there are 30 features. Given bayesian learning's strength on small datasets and noise resistance (i.e. less danger of overfitting), it seems this algorithm should definetely be worth a try. Whether or not the probabilistic assumptions are well met will be seen in the results.\n",
    "\n",
    "\n",
    "\n",
    "**The four questions for Ensemble Methods:**\n",
    "-This method has been used to predict energy consumption in the steel enterprises. (http://link.springer.com/chapter/10.1007%2F978-1-4471-4600-1_35)\n",
    "\n",
    "\n",
    "-Ensemble methods are sometimes called the best out-of-the-box algorithms to be found. They are less likely to overfit. And an ensemble that uses an underlying simple model can outperform the same model used solely but with increased complexity. Ensemble methods are robust towards unnecessary features and features living in different scales. They are good at handling categorical and numerical dimensions side by side. (https://www.quora.com/What-are-the-typical-use-cases-for-different-machine-learning-algorithms)\n",
    "\n",
    "\n",
    "-It is known that Boosting (in its most popular forms like AdaBoost) delivers poor probability estimates. That is, if you would like to have a model that allows you to reason about your data, not only classification, you might be better off with a graphical model. Also, if you have models with high variance (they over-fit your data), then you are likely to benefit from using bagging. If you have biased models, it is better to combine use them with Boosting. Which case you will be confronted with is often hard to tell beforehand. \n",
    "\n",
    "\n",
    "-Given the small size of the data set, it is likely that any model will have problems with realizing the underlying mechanisms that leads to poor student performance, but rather model the noise in the data instead. Ensemble methods can help here with their robustness towards overfitting. Furthermore the robustness towards unnecessary features and features living in different scales might be important, as we do not know much about the relevance of the features yet.\n",
    "\n",
    "\n",
    "\n",
    "**The four questions for SVM**\n",
    "-Classification of proteins has been done with over 90% accuracy in classification of compounds classified correctly. SVM are also used for Text recognition and for recognizing handwritten digits.https://en.wikipedia.org/wiki/Support_vector_machine --> applications\n",
    "\n",
    "\n",
    "-Performs well on linearly separable data and can perform well on small datasets. Thanks to the kernel trick, SVMs can also work well on non-linearly separable data. Effective in high dimensional spaces. It is still effective in cases where number of dimensions is greater than the number of samples. It uses a subset of training points in the decision function (called support vectors), so it is also memory efficient.\n",
    "\n",
    "\n",
    "-Long training times can be problematic. It will perform poorly on data that is not either linearly separable or when a kernel is used that is not useful for the data. To find this correct kernel is the hard part. If the number of features is much greater than the number of samples, the method is likely to give poor performances.\n",
    "\n",
    "\n",
    "-SVM is good at handling smaller datasets. As we have high dimensionality for a rather small dataset, it is rather probable that the data might be linearly separable. Otherwise there still might be a useful kernel to be found.\n",
    "\n",
    "\n",
    "\n",
    "**Further Notes on SVM**:\n",
    "\n",
    "If you train this model using Sequential Minimal Optimization (which is what libsvm and therefore scikit learn uses) their training time complexity is somewhere in between O(n²) and O(n³) in the worst case which means that they require 4 to 8 times as much computation to train on a data set only 2 times as large (not to mention that the algorithm must hold the entire training set in memory while this is done). Scikit learn main implementation of SVM's can thus only handle roughly up to 10,000 samples. If you are willing to forgo the kernel trick however you can train a SVM online with Pegasos or other stochastic gradient decent algorithm (see scikit-learn's sgd implementation of this model) at a lower cost.\n"
   ]
  },
  {
   "cell_type": "markdown",
   "metadata": {},
   "source": [
    "### Setup\n",
    "Run the code cell below to initialize three helper functions which you can use for training and testing the three supervised learning models you've chosen above. The functions are as follows:\n",
    "- `train_classifier` - takes as input a classifier and training data and fits the classifier to the data.\n",
    "- `predict_labels` - takes as input a fit classifier, features, and a target labeling and makes predictions using the F<sub>1</sub> score.\n",
    "- `train_predict` - takes as input a classifier, and the training and testing data, and performs `train_clasifier` and `predict_labels`.\n",
    " - This function will report the F<sub>1</sub> score for both the training and testing data separately."
   ]
  },
  {
   "cell_type": "code",
   "execution_count": 8,
   "metadata": {
    "collapsed": false
   },
   "outputs": [],
   "source": [
    "def train_classifier(clf, X_train, y_train):\n",
    "    ''' Fits a classifier to the training data. '''\n",
    "    \n",
    "    # Start the clock, train the classifier, then stop the clock\n",
    "    start = time()\n",
    "    clf.fit(X_train, y_train)\n",
    "    end = time()\n",
    "    \n",
    "    # Print the results\n",
    "    print \"Trained model in {:.4f} seconds\".format(end - start)\n",
    "\n",
    "    \n",
    "def predict_labels(clf, features, target):\n",
    "    ''' Makes predictions using a fit classifier based on F1 score. '''\n",
    "    \n",
    "    # Start the clock, make predictions, then stop the clock\n",
    "    start = time()\n",
    "    y_pred = clf.predict(features)\n",
    "    end = time()\n",
    "    \n",
    "    # Print and return results\n",
    "    print \"Made predictions in {:.4f} seconds.\".format(end - start)\n",
    "    return f1_score(target.values, y_pred, pos_label='yes')\n",
    "\n",
    "\n",
    "def train_predict(clf, X_train, y_train, X_test, y_test):\n",
    "    ''' Train and predict using a classifer based on F1 score. '''\n",
    "    \n",
    "    # Indicate the classifier and the training set size\n",
    "    print \"Training a {} using a training set size of {}. . .\".format(clf.__class__.__name__, len(X_train))\n",
    "    \n",
    "    # Train the classifier\n",
    "    train_classifier(clf, X_train, y_train)\n",
    "    \n",
    "    # Print the results of prediction for both training and testing\n",
    "    print \"F1 score for training set: {:.4f}.\".format(predict_labels(clf, X_train, y_train))\n",
    "    print \"F1 score for test set: {:.4f}.\".format(predict_labels(clf, X_test, y_test))"
   ]
  },
  {
   "cell_type": "markdown",
   "metadata": {},
   "source": [
    "### Implementation: Model Performance Metrics\n",
    "With the predefined functions above, you will now import the three supervised learning models of your choice and run the `train_predict` function for each one. Remember that you will need to train and predict on each classifier for three different training set sizes: 100, 200, and 300. Hence, you should expect to have 9 different outputs below — 3 for each model using the varying training set sizes. In the following code cell, you will need to implement the following:\n",
    "- Import the three supervised learning models you've discussed in the previous section.\n",
    "- Initialize the three models and store them in `clf_A`, `clf_B`, and `clf_C`.\n",
    " - Use a `random_state` for each model you use, if provided.\n",
    " - **Note:** Use the default settings for each model — you will tune one specific model in a later section.\n",
    "- Create the different training set sizes to be used to train each model.\n",
    " - *Do not reshuffle and resplit the data! The new training points should be drawn from `X_train` and `y_train`.*\n",
    "- Fit each model with each training set size and make predictions on the test set (9 in total).  \n",
    "**Note:** Three tables are provided after the following code cell which can be used to store your results."
   ]
  },
  {
   "cell_type": "code",
   "execution_count": 15,
   "metadata": {
    "collapsed": false
   },
   "outputs": [
    {
     "name": "stdout",
     "output_type": "stream",
     "text": [
      "Training a AdaBoostClassifier using a training set size of 100. . .\n",
      "Trained model in 0.2032 seconds\n",
      "Made predictions in 0.0112 seconds.\n",
      "F1 score for training set: 0.9778.\n",
      "Made predictions in 0.0097 seconds.\n",
      "F1 score for test set: 0.6880.\n",
      "Training a AdaBoostClassifier using a training set size of 200. . .\n",
      "Trained model in 0.2074 seconds\n",
      "Made predictions in 0.0118 seconds.\n",
      "F1 score for training set: 0.8905.\n",
      "Made predictions in 0.0094 seconds.\n",
      "F1 score for test set: 0.7445.\n",
      "Training a AdaBoostClassifier using a training set size of 300. . .\n",
      "Trained model in 0.2096 seconds\n",
      "Made predictions in 0.0139 seconds.\n",
      "F1 score for training set: 0.8565.\n",
      "Made predictions in 0.0105 seconds.\n",
      "F1 score for test set: 0.7328.\n",
      "Training a GaussianNB using a training set size of 100. . .\n",
      "Trained model in 0.0014 seconds\n",
      "Made predictions in 0.0007 seconds.\n",
      "F1 score for training set: 0.7752.\n",
      "Made predictions in 0.0008 seconds.\n",
      "F1 score for test set: 0.6457.\n",
      "Training a GaussianNB using a training set size of 200. . .\n",
      "Trained model in 0.0016 seconds\n",
      "Made predictions in 0.0007 seconds.\n",
      "F1 score for training set: 0.8060.\n",
      "Made predictions in 0.0006 seconds.\n",
      "F1 score for test set: 0.7218.\n",
      "Training a GaussianNB using a training set size of 300. . .\n",
      "Trained model in 0.0022 seconds\n",
      "Made predictions in 0.0015 seconds.\n",
      "F1 score for training set: 0.8134.\n",
      "Made predictions in 0.0007 seconds.\n",
      "F1 score for test set: 0.7761.\n",
      "Training a SVC using a training set size of 100. . .\n",
      "Trained model in 0.0027 seconds\n",
      "Made predictions in 0.0015 seconds.\n",
      "F1 score for training set: 0.8354.\n",
      "Made predictions in 0.0013 seconds.\n",
      "F1 score for test set: 0.8025.\n",
      "Training a SVC using a training set size of 200. . .\n",
      "Trained model in 0.0066 seconds\n",
      "Made predictions in 0.0049 seconds.\n",
      "F1 score for training set: 0.8431.\n",
      "Made predictions in 0.0024 seconds.\n",
      "F1 score for test set: 0.8105.\n",
      "Training a SVC using a training set size of 300. . .\n",
      "Trained model in 0.0121 seconds\n",
      "Made predictions in 0.0087 seconds.\n",
      "F1 score for training set: 0.8664.\n",
      "Made predictions in 0.0030 seconds.\n",
      "F1 score for test set: 0.8052.\n"
     ]
    }
   ],
   "source": [
    "# TODO: Import the three supervised learning models from sklearn\n",
    "from sklearn.tree import DecisionTreeClassifier\n",
    "from sklearn.ensemble import AdaBoostClassifier #model A\n",
    "from sklearn.naive_bayes import GaussianNB      #model B\n",
    "from sklearn import svm                         #model C\n",
    "\n",
    "# TODO: Initialize the three models\n",
    "clf_A = AdaBoostClassifier(n_estimators=50, random_state=42)\n",
    "clf_B = GaussianNB()\n",
    "clf_C = svm.SVC(random_state=42)\n",
    "\n",
    "\n",
    "# TODO: Set up the training set sizes\n",
    "\n",
    "\n",
    "X_train_100 = X_train[:100]\n",
    "y_train_100 = y_train[:100]\n",
    "\n",
    "\n",
    "X_train_200 = X_train[:200]\n",
    "y_train_200 = y_train[:200]\n",
    "\n",
    "\n",
    "X_train_300 = X_train\n",
    "y_train_300 = y_train\n",
    "\n",
    "# TODO: Execute the 'train_predict' function for each classifier and each training set size\n",
    " #train_predict(clf, X_train, y_train, X_test, y_test)\n",
    "X_train_sizes = [X_train_100,X_train_200,X_train_300]\n",
    "y_train_sizes = [y_train_100,y_train_200,y_train_300]\n",
    "for clf in [clf_A,clf_B,clf_C]:\n",
    "    for X_train, y_train in zip(X_train_sizes,y_train_sizes):\n",
    "        train_predict(clf, X_train, y_train, X_test, y_test)\n"
   ]
  },
  {
   "cell_type": "markdown",
   "metadata": {},
   "source": [
    "### Tabular Results\n",
    "Edit the cell below to see how a table can be designed in [Markdown](https://github.com/adam-p/markdown-here/wiki/Markdown-Cheatsheet#tables). You can record your results from above in the tables provided."
   ]
  },
  {
   "cell_type": "markdown",
   "metadata": {},
   "source": [
    "**Comment for the corrector:** \n",
    "The values below were put in before I set a random state for the train/test split function. Therefore the values above do not match the values below, even though they were done using the same classifiers and data. I just do not want to copy all the values to the tabulars again... I hope this is okay with you. Thanks in advance! \n",
    "\n",
    "** Classifer 1 - Adaboost**  \n",
    "\n",
    "| Training Set Size | Training Time           | Prediction Time (test) | F1 Score (train) | F1 Score (test) |\n",
    "| :---------------: | :---------------------: | :--------------------: | :--------------: | :-------------: |\n",
    "| 100               |        0.2144           |        0.0103          |     1.0000       |    0.6557       |\n",
    "| 200               |        0.1952           |        0.0115          |     0.8921       |    0.6880       |\n",
    "| 300               |        0.2001           |        0.0126          |     0.8767       |    0.6875       |\n",
    "\n",
    "** Classifer 2 - Naive Bayes**  \n",
    "\n",
    "| Training Set Size | Training Time           | Prediction Time (test) | F1 Score (train) | F1 Score (test) |\n",
    "| :---------------: | :---------------------: | :--------------------: | :--------------: | :-------------: |\n",
    "| 100               |     0.0012              |      0.0005            |    0.8467        |    0.6609       |\n",
    "| 200               |     0.0013              |      0.0006            |    0.7899        |    0.5946       |\n",
    "| 300               |     0.0015              |      0.0005            |    0.8077        |    0.6780       |\n",
    "\n",
    "** Classifer 3 - SVM**  \n",
    "\n",
    "| Training Set Size | Training Time           | Prediction Time (test) | F1 Score (train) | F1 Score (test) |\n",
    "| :---------------: | :---------------------: | :--------------------: | :--------------: | :-------------: |\n",
    "| 100               |      0.0020             |     0.0011             |    0.8831        |    0.7568       |\n",
    "| 200               |      0.0055             |     0.0020             |    0.8684        |    0.7619       |\n",
    "| 300               |      0.0110             |     0.0026             |    0.8729        |    0.7651       |"
   ]
  },
  {
   "cell_type": "markdown",
   "metadata": {},
   "source": [
    "## Choosing the Best Model\n",
    "In this final section, you will choose from the three supervised learning models the *best* model to use on the student data. You will then perform a grid search optimization for the model over the entire training set (`X_train` and `y_train`) by tuning at least one parameter to improve upon the untuned model's F<sub>1</sub> score. "
   ]
  },
  {
   "cell_type": "markdown",
   "metadata": {},
   "source": [
    "### Question 3 - Choosing the Best Model\n",
    "*Based on the experiments you performed earlier, in one to two paragraphs, explain to the board of supervisors what single model you chose as the best model. Which model is generally the most appropriate based on the available data, limited resources, cost, and performance?*"
   ]
  },
  {
   "cell_type": "markdown",
   "metadata": {},
   "source": [
    "**Answer: **\n",
    "\n",
    "The tabulars above clearly show that the SVM performs the best, compared to the other 2 out-of-the-box-algorithms. The SVM started out at a high F1 score event at 100 training examples and consistently improved upwards with more training examples. Training time and prediction time are both so fast for any model, they do not really play a decisive role for the final choice.\n",
    "\n",
    "Based on the small dataset with relatively many features compared to the dataset size (300 train examples at 30 features per example), one would expect a good performance of the Support Vector Machine or Ensemble methods. The support vector machine probably outperforms Adaboost out of the box, as much tuning would be necessary for adaboost. \n",
    "Looking at the experiments, Adaboost seems to apply right now a too complex model for this dataset, resulting in a 1.0 F1 score for 100 training examples while only achieving 0.65 in the training example - clear signs of overfitting. Maybe Adaboost could be tuned to perform the best, but maybe Adaboost just requires more data to perform well for the task at hand."
   ]
  },
  {
   "cell_type": "markdown",
   "metadata": {},
   "source": [
    "### Question 4 - Model in Layman's Terms\n",
    "*In one to two paragraphs, explain to the board of directors in layman's terms how the final model chosen is supposed to work. Be sure that you are describing the major qualities of the model, such as how the model is trained and how the model makes a prediction. Avoid using advanced mathematical or technical jargon, such as describing equations or discussing the algorithm implementation.*"
   ]
  },
  {
   "cell_type": "markdown",
   "metadata": {},
   "source": [
    "**Answer: **\n",
    "\n",
    "The final model chosen is called support vector machine, or SVM for short. This is an algorithm that tries to find a so called decision boundary in the student data, so that the students may be classified into one of the two categories of \"will fail\" or \"will pass\" the school year. In order to visualize the decision boundary, imagine you have a chess board in front of you. Now you want to separate the chess board into areas where mostly white figures are and an area where mostly black figures are. Your goal is to fit this decision boundary (a line in this case) such that you find the best line to perform this cut. The best line will be determined by how many of the chess figures in the \"white area\" are actually white compared to the number of black figures there and vice versa. The line will be chosen such that it maximizes the margin between the two areas. This means, that the distance from the line to the closest chess figures to the line will be maximized.\n",
    "\n",
    "This line is determined by yet another algorithm that tries to find the best line with highest margin.\n",
    "\n",
    "Often though it is not possible to directly find a linear decision boundary in low dimensions. Therefore the SVM will transfer the data into a feature space where this might be possible. Coming back to the example of the chessboard, you could imagine that the SVM creates an additional feature by also looking at what colour the field is, on which the chess figure stands. This additional feature might make it possible to separate the figures better. The SVM does this by using certain functions of the given features, which in the end achieve the same thing. We can think of these kernel function as a similarity measure (e.g. two pieces standing on the same color are more similar to one another, two students that miss class regularly are more similar to one another, etc).\n",
    "\n",
    "These functions that are created when the SVM scans through the training data, the SVM can then use on new data, thereby classifying which student will likely need help in passing the year."
   ]
  },
  {
   "cell_type": "markdown",
   "metadata": {},
   "source": [
    "### Implementation: Model Tuning\n",
    "Fine tune the chosen model. Use grid search (`GridSearchCV`) with at least one important parameter tuned with at least 3 different values. You will need to use the entire training set for this. In the code cell below, you will need to implement the following:\n",
    "- Import [`sklearn.grid_search.GridSearchCV`](http://scikit-learn.org/0.17/modules/generated/sklearn.grid_search.GridSearchCV.html) and [`sklearn.metrics.make_scorer`](http://scikit-learn.org/stable/modules/generated/sklearn.metrics.make_scorer.html).\n",
    "- Create a dictionary of parameters you wish to tune for the chosen model.\n",
    " - Example: `parameters = {'parameter' : [list of values]}`.\n",
    "- Initialize the classifier you've chosen and store it in `clf`.\n",
    "- Create the F<sub>1</sub> scoring function using `make_scorer` and store it in `f1_scorer`.\n",
    " - Set the `pos_label` parameter to the correct value!\n",
    "- Perform grid search on the classifier `clf` using `f1_scorer` as the scoring method, and store it in `grid_obj`.\n",
    "- Fit the grid search object to the training data (`X_train`, `y_train`), and store it in `grid_obj`."
   ]
  },
  {
   "cell_type": "code",
   "execution_count": 17,
   "metadata": {
    "collapsed": false
   },
   "outputs": [
    {
     "name": "stdout",
     "output_type": "stream",
     "text": [
      "Made predictions in 0.0069 seconds.\n",
      "Tuned model has a training F1 score of 0.8312.\n",
      "Made predictions in 0.0024 seconds.\n",
      "Tuned model has a testing F1 score of 0.7973.\n"
     ]
    }
   ],
   "source": [
    "# TODO: Import 'GridSearchCV' and 'make_scorer'\n",
    "from sklearn import grid_search, metrics\n",
    "# TODO: Create the parameters list you wish to tune\n",
    "parameters = {'C': [0.01,0.1,0.5,1,2, 10, 100, 200], 'gamma': ['auto',0.1,0.001, 0.0001], \n",
    "              'kernel': ['rbf']}\n",
    "\n",
    "# TODO: Initialize the classifier\n",
    "clf = svm.SVC(C=1.0, kernel='rbf', degree=3, gamma='auto', coef0=0.0, shrinking=True, \n",
    "              probability=False, tol=0.001, cache_size=200, class_weight=None, verbose=False, \n",
    "              max_iter=-1, decision_function_shape=None, random_state=100)\n",
    "\n",
    "'''\n",
    "Intuitively, the gamma parameter defines how far the influence of a single training example \n",
    "reaches, with low values meaning ‘far’ and high values meaning ‘close’. The gamma parameters \n",
    "can be seen as the inverse of the radius of influence of samples selected by the model as \n",
    "support vectors.\n",
    "\n",
    "'auto' means that gamma will be chosen as 1/n_features. Here, 1/n_features = 1/48, though actually\n",
    "there are originally 30 features.\n",
    "\n",
    "The C parameter trades off misclassification of training examples against simplicity of the \n",
    "decision surface. A low C makes the decision surface smooth, while a high C aims at \n",
    "classifying all training examples correctly by giving the model freedom to select more samples\n",
    "as support vectors.\n",
    "\n",
    "For more: \n",
    "http://scikit-learn.org/stable/auto_examples/svm/plot_rbf_parameters.html\n",
    "http://scikit-learn.org/stable/modules/generated/sklearn.svm.SVC.html\n",
    "'''\n",
    "\n",
    "\n",
    "# TODO: Make an f1 scoring function using 'make_scorer' \n",
    "f1_scorer = metrics.make_scorer(metrics.f1_score, pos_label=\"yes\")\n",
    "\n",
    "# TODO: Perform grid search on the classifier using the f1_scorer as the scoring method\n",
    "grid_obj = grid_search.GridSearchCV(clf, parameters, scoring=f1_scorer, fit_params=None, n_jobs=1, iid=True, \n",
    "                        refit=True, cv=None, verbose=0, pre_dispatch='2*n_jobs', error_score='raise')\n",
    "\n",
    "# TODO: Fit the grid search object to the training data and find the optimal parameters\n",
    "grid_obj = grid_obj.fit(X_train,y_train)\n",
    "\n",
    "# Get the estimator\n",
    "clf = grid_obj.best_estimator_\n",
    "\n",
    "# Report the final F1 score for training and testing after parameter tuning\n",
    "print \"Tuned model has a training F1 score of {:.4f}.\".format(predict_labels(clf, X_train, y_train))\n",
    "print \"Tuned model has a testing F1 score of {:.4f}.\".format(predict_labels(clf, X_test, y_test))\n"
   ]
  },
  {
   "cell_type": "code",
   "execution_count": 14,
   "metadata": {
    "collapsed": false
   },
   "outputs": [
    {
     "name": "stdout",
     "output_type": "stream",
     "text": [
      "{'kernel': 'rbf', 'C': 100, 'gamma': 0.0001}\n"
     ]
    }
   ],
   "source": [
    "print grid_obj.best_params_"
   ]
  },
  {
   "cell_type": "markdown",
   "metadata": {},
   "source": [
    "### Question 5 - Final F<sub>1</sub> Score\n",
    "*What is the final model's F<sub>1</sub> score for training and testing? How does that score compare to the untuned model?*"
   ]
  },
  {
   "cell_type": "markdown",
   "metadata": {},
   "source": [
    "**Answer: **\n",
    "\n",
    "The final model's F1 score is 0.83 for training and 0.79 for the test set. This is actually a bit worse than the 0.80 that were reached for the SVM out of the box. The difference to the original model is a smaller gamma value and higher C value. The worse F1 testing score may actually be a result of the cross validation that is done in the GridSearch_CV, which therefore finds a different optimally separating hyperplane. The difference is minor though."
   ]
  },
  {
   "cell_type": "markdown",
   "metadata": {},
   "source": [
    "> **Note**: Once you have completed all of the code implementations and successfully answered each question above, you may finalize your work by exporting the iPython Notebook as an HTML document. You can do this by using the menu above and navigating to  \n",
    "**File -> Download as -> HTML (.html)**. Include the finished document along with this notebook as your submission."
   ]
  }
 ],
 "metadata": {
  "kernelspec": {
   "display_name": "Python 2",
   "language": "python",
   "name": "python2"
  },
  "language_info": {
   "codemirror_mode": {
    "name": "ipython",
    "version": 2
   },
   "file_extension": ".py",
   "mimetype": "text/x-python",
   "name": "python",
   "nbconvert_exporter": "python",
   "pygments_lexer": "ipython2",
   "version": "2.7.11"
  }
 },
 "nbformat": 4,
 "nbformat_minor": 0
}
